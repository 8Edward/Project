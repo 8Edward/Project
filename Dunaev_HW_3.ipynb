{
 "cells": [
  {
   "cell_type": "markdown",
   "metadata": {},
   "source": [
    "- Создайте класс Point(x, y) x, y - координаты точки на плоскости.\n",
    "- Реализуйте два метода a.distanceTo(b) - евкливодов расстояние между $a$ и $b$\n",
    "- Переопределите __str__ так чтобы при печати экземпляра выводилось (x, y) - то есть координаты точки"
   ]
  },
  {
   "cell_type": "code",
   "execution_count": 5,
   "metadata": {},
   "outputs": [],
   "source": [
    "class Point:\n",
    "    def __init__(self, x, y):\n",
    "        self.x = x\n",
    "        self.y = y\n",
    "    \n",
    "    def __str__(self):\n",
    "        return \"(\" + str(self.x) + \",\" + str(self.y) +  \")\"\n",
    "    \n",
    "    def distanceTo(self, other):\n",
    "        return ((self.x - other.x)**2 + (self.y - other.y)**2)**0.5"
   ]
  },
  {
   "cell_type": "code",
   "execution_count": null,
   "metadata": {},
   "outputs": [],
   "source": []
  },
  {
   "cell_type": "markdown",
   "metadata": {},
   "source": [
    "- После того как Вы создадите класс запустите следующий код"
   ]
  },
  {
   "cell_type": "code",
   "execution_count": 6,
   "metadata": {},
   "outputs": [],
   "source": [
    "import random\n",
    "random.seed(42)\n",
    "points = list()\n",
    "for i in range(1000):\n",
    "    x = random.randint(1, 100)\n",
    "    y = random.randint(1, 100)\n",
    "    points.append(Point(x, y))"
   ]
  },
  {
   "cell_type": "markdown",
   "metadata": {},
   "source": [
    "- Напишите метод, который определит у какой из заданых точек больше всего соседей в радиусе 5.\n",
    "- Если таких точек несколько, то тогда выведите точку с наименьше суммой координат, если таких точек несколько, то выведите точку с наименьше абсциссой."
   ]
  },
  {
   "cell_type": "code",
   "execution_count": 9,
   "metadata": {},
   "outputs": [],
   "source": [
    "def Points_arround(mas):\n",
    "    max_Arround_Index = []\n",
    "    max_Arround_Number = 0\n",
    "    for i in range (len(mas)):\n",
    "        number = 0\n",
    "        for j in range (len(mas)):\n",
    "            if i != j:\n",
    "                if mas[i].distanceTo(mas[j]) <= 5:\n",
    "                    number+=1\n",
    "        if number > max_Arround_Number:\n",
    "            max_Arround_Number = number\n",
    "            max_Arround_Index = []\n",
    "            max_Arround_Index.append(i)\n",
    "        elif number == max_Arround_Number:\n",
    "            max_Arround_Index.append(i)\n",
    "            \n",
    "    if len(max_Arround_Index) == 1:\n",
    "        print ('element with max number of neighboring points: ', mas[maxNeighborsIndex[0]])\n",
    "    else:\n",
    "        min_Sum_Index = []\n",
    "        min_Sum = 200\n",
    "        print(max_Arround_Index)\n",
    "        for i in max_Arround_Index:\n",
    "            coordSum = mas[i].x + mas[i].y\n",
    "            if coordSum < min_Sum:\n",
    "                min_Sum_Index = []\n",
    "                min_Sum_Index.append(i)\n",
    "                min_Sum = coordSum\n",
    "            elif min_Sum == coordSum:\n",
    "                min_Sum_Index.append(i)\n",
    "        if len(min_Sum_Index) == 1:\n",
    "            print ('Элемент с минимальной суммой координат ', mas[min_Sum_Index[0]] )\n",
    "        else:\n",
    "            min_X = mas[min_Sum_Index[0]].x\n",
    "            min_X_Index = min_Sum_Index[0]\n",
    "            for i in min_Sum_Index:\n",
    "                if mas[i].x < min_X:\n",
    "                    min_X = mas[i].x\n",
    "                    min_X_Index = i\n",
    "            print('Элемент минимальный X :', mas[minXIndex])"
   ]
  },
  {
   "cell_type": "code",
   "execution_count": 10,
   "metadata": {},
   "outputs": [
    {
     "name": "stdout",
     "output_type": "stream",
     "text": [
      "[219, 221, 340, 404, 482, 581, 785]\n",
      "Элемент с минимальной суммой координат  (12,61)\n"
     ]
    }
   ],
   "source": [
    "Points_arround(points)"
   ]
  },
  {
   "cell_type": "code",
   "execution_count": null,
   "metadata": {},
   "outputs": [],
   "source": []
  },
  {
   "cell_type": "code",
   "execution_count": null,
   "metadata": {},
   "outputs": [],
   "source": []
  }
 ],
 "metadata": {
  "kernelspec": {
   "display_name": "Python 3",
   "language": "python",
   "name": "python3"
  },
  "language_info": {
   "codemirror_mode": {
    "name": "ipython",
    "version": 3
   },
   "file_extension": ".py",
   "mimetype": "text/x-python",
   "name": "python",
   "nbconvert_exporter": "python",
   "pygments_lexer": "ipython3",
   "version": "3.8.3"
  }
 },
 "nbformat": 4,
 "nbformat_minor": 4
}
