{
 "cells": [
  {
   "cell_type": "code",
   "execution_count": 2,
   "metadata": {},
   "outputs": [
    {
     "name": "stdout",
     "output_type": "stream",
     "text": [
      "1\n",
      "1 2 3\n",
      "6.0\n"
     ]
    }
   ],
   "source": [
    "def evaluate(x, A):\n",
    "    A.reverse()\n",
    "    A_x = 0\n",
    "    for a in A:\n",
    "        A_x = A_x * x + a\n",
    "    return A_x\n",
    "x = float(input())\n",
    "array = input().split()\n",
    "A = []\n",
    "for i in array:\n",
    "    A.append(int(i))\n",
    "print(evaluate(x, A))"
   ]
  },
  {
   "cell_type": "code",
   "execution_count": 3,
   "metadata": {},
   "outputs": [
    {
     "name": "stdout",
     "output_type": "stream",
     "text": [
      "100\n",
      "Ответ через функцию exp(): 1.0010005001667084\n",
      "Ответ через функцию math.exp(): 1.0010005001667084\n",
      "Ответ через функцию exp(): 1.1051709180756477\n",
      "Ответ через функцию math.exp(): 1.1051709180756477\n",
      "Ответ через функцию exp(): 2.718281828459045\n",
      "Ответ через функцию math.exp(): 2.718281828459045\n",
      "Ответ через функцию exp(): 22026.465794806714\n",
      "Ответ через функцию math.exp(): 22026.465794806718\n",
      "Ответ через функцию exp(): 10686474581524.473\n",
      "Ответ через функцию math.exp(): 10686474581524.463\n",
      "Ответ через функцию exp(): 1.3083098432883313e+43\n",
      "Ответ через функцию math.exp(): 2.6881171418161356e+43\n"
     ]
    }
   ],
   "source": [
    "import math\n",
    "def exp(x, n):\n",
    "    koef = []\n",
    "    for i in range(n):\n",
    "        koef.append(1/math.factorial(i))\n",
    "    return evaluate(x, koef)\n",
    "n = int(input())\n",
    "X = [0.001, 0.1, 1, 10, 30, 100]\n",
    "for x in X:\n",
    "    print('Ответ через функцию exp():', exp(x, n))\n",
    "    print('Ответ через функцию math.exp():', math.exp(x))\n",
    "#Чем больше n, тем точнее ответ при большей степени экспоненты"
   ]
  }
 ],
 "metadata": {
  "kernelspec": {
   "display_name": "Python 3",
   "language": "python",
   "name": "python3"
  },
  "language_info": {
   "codemirror_mode": {
    "name": "ipython",
    "version": 3
   },
   "file_extension": ".py",
   "mimetype": "text/x-python",
   "name": "python",
   "nbconvert_exporter": "python",
   "pygments_lexer": "ipython3",
   "version": "3.8.3"
  }
 },
 "nbformat": 4,
 "nbformat_minor": 4
}
